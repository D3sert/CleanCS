{
 "metadata": {
  "language_info": {
   "codemirror_mode": {
    "name": "ipython",
    "version": 3
   },
   "file_extension": ".py",
   "mimetype": "text/x-python",
   "name": "python",
   "nbconvert_exporter": "python",
   "pygments_lexer": "ipython3",
   "version": "3.8.3"
  },
  "orig_nbformat": 2,
  "kernelspec": {
   "name": "python383jvsc74a57bd075a88bca18d42798bd43853615f6d8e1ba2122f998d1455de99fcbfb11fe8fcf",
   "display_name": "Python 3.8.3 64-bit (conda)"
  }
 },
 "nbformat": 4,
 "nbformat_minor": 2,
 "cells": [
  {
   "cell_type": "code",
   "execution_count": 3,
   "metadata": {},
   "outputs": [],
   "source": [
    "from selenium import webdriver\n",
    "from bs4 import BeautifulSoup\n",
    "import pandas as pd\n",
    "import time\n",
    "import re\n",
    "import random\n",
    "driver = webdriver.Chrome(executable_path='C:\\chromedriver\\chromedriver.exe')\n"
   ]
  },
  {
   "cell_type": "code",
   "execution_count": 271,
   "metadata": {},
   "outputs": [],
   "source": [
    "##HELPERFUNCTIONS\n",
    "\n",
    "def get_matchLinks(page):\n",
    "    matchesLinks = []\n",
    "    ## https://www.hltv.org/results?offset=100&startDate=all&content=stats&stars=1\n",
    "    driver.get('https://www.hltv.org/results?offset='+ str(page) +'&startDate=all&content=stats&stars=1')\n",
    "    content = driver.page_source\n",
    "    soup = BeautifulSoup(content)\n",
    "    \n",
    "    ## FIND MATCHES\n",
    "    for div in soup.findAll('div', attrs={'class': 'results'}):\n",
    "        for a in div.findAll('a', attrs={'class': 'a-reset'}):\n",
    "            link = a['href']\n",
    "            if (link[:8] == \"/matches\"):\n",
    "                matchesLinks.append(link)\n",
    "    return matchesLinks\n",
    "\n",
    "def get_page_data(link):\n",
    "    url = 'https://www.hltv.org/' + str(link)\n",
    "    driver.get(url)\n",
    "    content = driver.page_source\n",
    "    soup = BeautifulSoup(content)    \n",
    "    return soup\n",
    "\n",
    "def get_game_links(soup):\n",
    "    statlinks = []\n",
    "    for div in soup.findAll('div', attrs={'class': 'results-center-stats'}):\n",
    "        for a in div.findAll('a'):\n",
    "            statlinks.append(a['href'])\n",
    "    return statlinks\n",
    "\n",
    "def get_game_stats(link):\n",
    "    result = get_page_data(link)\n",
    "    return result"
   ]
  },
  {
   "cell_type": "code",
   "execution_count": 272,
   "metadata": {},
   "outputs": [],
   "source": [
    "## GAME STAT INFO\n",
    "##GATHER PLAYER STATS\n",
    "\n",
    "#print(data[8][0])\n",
    "#LINK /stats/matches/mapstatsid/118030/astralis-vs-og\n",
    "def gather_player_stats(link):\n",
    "    colnames = [\"Player\",\"K (hs)\",\"A (f)\",\"D\",\"KAST\",\"K-D Diff\",\"ADR\",\"FK Diff\",\"Rating\",\"Team\"]\n",
    "\n",
    "    #localLink = data[8][0]\n",
    "    result = get_page_data(link)\n",
    "    page_source = result\n",
    "    result = result.findAll('table', {'class':'stats-table'})\n",
    "    results = pd.read_html(str(result))\n",
    "\n",
    "    MapID = link.split(\"/\")[4]\n",
    "\n",
    "    #print(MapID)\n",
    "    #print(Map)\n",
    "    df_team1 = pd.DataFrame(results[0])\n",
    "    df_team1['Team'] = df_team1.columns[0]\n",
    "    df_team1.columns = colnames\n",
    "    df_team2 = pd.DataFrame(results[1])\n",
    "    df_team2['Team'] = df_team2.columns[0]\n",
    "    df_team2.columns = colnames\n",
    "\n",
    "    game_df = df_team1.append(df_team2,ignore_index=True)\n",
    "    game_df['MapID'] = MapID\n",
    "\n",
    "\n",
    "    misc_stats = page_source.findAll('div', attrs={'class': 'right'})\n",
    "    game_df['Starting side'] = misc_stats[0].contents[4]['class'][0][:-6]\n",
    "    game_df['Rounds'] = misc_stats[0].text\n",
    "    game_df['Team rating'] = misc_stats[1].text\n",
    "    game_df['Entries'] = misc_stats[2].text\n",
    "    game_df['Clutches'] = misc_stats[3].text\n",
    "    #game_df['Map'] \n",
    "    #print(game_df)\n",
    "    #game_df.to_csv(index=True)\n",
    "    return game_df\n"
   ]
  },
  {
   "cell_type": "code",
   "execution_count": 273,
   "metadata": {},
   "outputs": [],
   "source": [
    "##BASIC INFO\n",
    "\n",
    "def gather_match_stats(links):\n",
    "    match_df = pd.DataFrame()\n",
    "    ##GET DATE from https://www.hltv.org/matches/2347834***\n",
    "    names = [\"Date\",\"Tournament\",\"Team1\",\"Result1\",\"Team2\",\"Result2\",\"Map\",\"MapID\",\"StatLinks\"]\n",
    "    data = []\n",
    "    maps = []\n",
    "    mapsID = []\n",
    "    pick = []\n",
    "\n",
    "     \n",
    "    choiceslist = soup.find_all('div',class_=\"standard-box veto-box\")\n",
    "    choices = (str(choiceslist[1].contents[1].text).strip(\"\\n\").strip(\" \"))\n",
    "    #print(choices)\n",
    "\n",
    "\n",
    "    for div in soup.findAll('div', attrs={'class': 'match-page'}):\n",
    "        pageDate = div.find('div', attrs={'class': 'date'})\n",
    "        pageTournament = div.find('div', attrs={'class': 'event text-ellipsis'})\n",
    "        data.append(pageDate.text)\n",
    "        data.append(pageTournament.text)\n",
    "\n",
    "    ##GET FINALRESULT1 from https://www.hltv.org/matches/2347834***\n",
    "    for div in soup.findAll('div', attrs={'class': 'team1-gradient'}):\n",
    "        pageTeam1 = div.find('div', attrs={'class': 'teamName'})\n",
    "        pageResult1 = div.find('div', attrs={'class': ['won', 'lost', 'tie']})\n",
    "        data.append(pageTeam1.text)\n",
    "        data.append(pageResult1.text)\n",
    "\n",
    "    ##GET FINALRESULT2 from https://www.hltv.org/matches/2347834***\n",
    "    for div in soup.findAll('div', attrs={'class': 'team2-gradient'}):\n",
    "        pageTeam2 = div.find('div', attrs={'class': 'teamName'})\n",
    "        pageResult2 = div.find('div', attrs={'class': ['won', 'lost', 'tie']})\n",
    "        data.append(pageTeam2.text)\n",
    "        data.append(pageResult2.text)\n",
    "\n",
    "    ##GET MAPS AND MAPSID from https://www.hltv.org/matches/2347834***\n",
    "    for div in soup.findAll('div', attrs={'class': 'stats-menu-link'}):\n",
    "        map1 = div.findAll('div', attrs= {'class': 'dynamic-map-name-full'})\n",
    "        for div in map1:\n",
    "            maps.append(div.text)\n",
    "            mapsID.append(div['id'])\n",
    "\n",
    "    ##GET BETTING ODDS\n",
    "    bets = []\n",
    "    try:\n",
    "        for div in soup.findAll('div', attrs={'class': 'past-matches-grid'}):\n",
    "            for bet in div.findAll('div', attrs={'class': 'past-matches-bottom-right-numbers'}):\n",
    "                bets.append(bet.text)\n",
    "    except:\n",
    "        pass\n",
    "    \n",
    "    #get_map_picks\n",
    "    picks = get_map_picks(soup)\n",
    "\n",
    "    \n",
    "    data.append(maps)\n",
    "    data.append(mapsID)\n",
    "    #data.append(links)\n",
    "\n",
    "\n",
    "    ##GET DETAILED STATS LINKS\n",
    "    \n",
    "    #----------\n",
    "    ## FOR EACH MAP in\n",
    "    for i in range(1,len(maps)):\n",
    "        #print(maps[i])\n",
    "        #print(mapsID[i])\n",
    "        #print(links[i-1])\n",
    "        game_df = gather_player_stats(links[i-1])\n",
    "        game_df['Map'] = maps[i]\n",
    "        game_df['Tournament'] = data[1]\n",
    "        game_df['Date'] = data[0]\n",
    "        game_df['Team1'] = data[2]\n",
    "        game_df['Team2'] = data[4]\n",
    "        game_df['ResultTeam1'] = data[3]\n",
    "        game_df['ResultTeam2'] = data[5]\n",
    "        if maps[i] in picks:\n",
    "            game_df['T1pick'] = picks[maps[i]]\n",
    "        try:\n",
    "            game_df['Bets'] = str(bets[0]) + \" / \" + str(bets[1])\n",
    "        except:\n",
    "            game_df['Bets'] = \"\"\n",
    "\n",
    "        match_df = match_df.append(game_df)\n",
    "    \n",
    "    #print(choices)\n",
    "    match_df['choices'] = str(choices)\n",
    "\n",
    "    return match_df\n",
    "    #match_df.to_clipboard()\n",
    "\n",
    "\n",
    "\n",
    "    #data_df.iloc[7].values[0][0] -> maps\n",
    "    #data_df.iloc[8].values[0][0] -> mapID\n",
    "    #data_df.iloc[9].values[0][0] -> players"
   ]
  },
  {
   "cell_type": "code",
   "execution_count": 274,
   "metadata": {
    "tags": []
   },
   "outputs": [
    {
     "output_type": "stream",
     "name": "stdout",
     "text": [
      "J: 0\n",
      "Stating at: 0 with 1 incs\n",
      "Fetching: 2347745 I: 0\n"
     ]
    }
   ],
   "source": [
    "##MAIN\n",
    "for j in range(0,100):   \n",
    "    print(\"J: \"+str(j))\n",
    "    total_matches = 0\n",
    "    n_runs = 100\n",
    "    runname = \"CSGO_Data_bets_picks_choices\"\n",
    "\n",
    "\n",
    "    #df_running = pd.read_csv(str(runname+'.csv'))\n",
    "    #total_matches = len(df_running['MatchID'].unique())\n",
    "    \n",
    "    print(\"Stating at: \"+ str(total_matches)+ \" with \" + str(n_runs) + \" incs\")\n",
    "    \n",
    "\n",
    "    #CAREFUL FETCHES PAGE (runtime=1)\n",
    "    matchesLinks = get_matchLinks(total_matches) #goes to results page to fetch matchLinks\n",
    "    #print(pd.DataFrame(matchesLinks))\n",
    "\n",
    "    for i in range(0,n_runs): #len(matchesLinks)\n",
    "        match_id = matchesLinks[i].split(\"/\")[2]\n",
    "        if len(df_running['MatchID'].where(df_running['MatchID'] == match_id).dropna()) != 0:\n",
    "            print(\"Duplicate Skipping\" + match_id)\n",
    "        else:\n",
    "            print(\"Fetching: \" +str(match_id) + \" I: \"+ str(i))\n",
    "            #CAREFUL FETCHES PAGE\n",
    "            soup = get_page_data(matchesLinks[i]) #gets the soup for matchpage from match links\n",
    "            gamelinks = get_game_links(soup) #gets the gamelinks from match links\n",
    "            output = gather_match_stats(gamelinks)  #gets stats from gamelinks\n",
    "            output['MatchID'] = match_id\n",
    "            #print(output)\n",
    "            output.to_csv(str(runname)+'.csv', mode='a', header=False,index=False)\n",
    "\n"
   ]
  },
  {
   "cell_type": "code",
   "execution_count": 43,
   "metadata": {},
   "outputs": [
    {
     "output_type": "stream",
     "name": "stdout",
     "text": [
      "1.44\n2.62\n1.44\n2.62\n"
     ]
    }
   ],
   "source": [
    "##\n",
    "bets = []\n",
    "for div in soup.findAll('div', attrs={'class': 'past-matches-grid'}):\n",
    "    for bet in div.findAll('div', attrs={'class': 'past-matches-bottom-right-numbers'}):\n",
    "        bets.append(bet)"
   ]
  },
  {
   "cell_type": "code",
   "execution_count": 223,
   "metadata": {},
   "outputs": [
    {
     "output_type": "execute_result",
     "data": {
      "text/plain": [
       "0"
      ]
     },
     "metadata": {},
     "execution_count": 223
    }
   ],
   "source": [
    "df_running = pd.read_csv(\"RunningTest.csv\")\n",
    "len(df_running['MatchID'].where(df_running['MatchID'] == match_id).dropna())"
   ]
  },
  {
   "cell_type": "code",
   "execution_count": 186,
   "metadata": {},
   "outputs": [
    {
     "output_type": "stream",
     "name": "stdout",
     "text": [
      "54\n"
     ]
    }
   ],
   "source": [
    "matchesLinks_ids = []\n",
    "for i in range(0,len(matchesLinks)):\n",
    "    matchesLinks_ids.append(matchesLinks[i].split(\"/\")[2])\n",
    "print(len(matchesLinks[]))"
   ]
  },
  {
   "cell_type": "code",
   "execution_count": 204,
   "metadata": {},
   "outputs": [
    {
     "output_type": "stream",
     "name": "stdout",
     "text": [
      "48\n"
     ]
    }
   ],
   "source": [
    "df_running = pd.read_csv(\"run_Test_50.csv\")\n",
    "print(len(df_running['MatchID'].unique()))"
   ]
  },
  {
   "source": [
    "for i in range(0,len(results)):\n",
    "    print(results[i])\n",
    "df = pd.DataFrame(result[0])\n",
    "print(df)"
   ],
   "cell_type": "markdown",
   "metadata": {}
  },
  {
   "cell_type": "code",
   "execution_count": 162,
   "metadata": {
    "tags": [
     "outputPrepend"
    ]
   },
   "outputs": [
    {
     "output_type": "stream",
     "name": "stdout",
     "text": [
      " no-promode\" href=\"/forums/threads/2444688/do-you-still-respect-germany\">\n          <span class=\"topic a-default\" title=\"Cs: do you still respect germany\">\n           do you still respect germany\n          </span>\n          197\n         </a>\n         <a class=\"col-box activity a-reset csCat no-promode\" href=\"/forums/threads/2444779/ex-tuureboelius-come-here\">\n          <span class=\"topic a-default\" title=\"Cs: ex-TuureBoelius come here\">\n           ex-TuureBoelius come here\n          </span>\n          22\n         </a>\n         <a class=\"col-box activity a-reset newsCat\" href=\"/news/31550/nafany-we-want-to-establish-our-own-era\">\n          <span class=\"topic a-default\" title='News: nafany: \"We want to establish our own era\"'>\n           nafany: \"We want to establish our own era\"\n          </span>\n          225\n         </a>\n         <a class=\"col-box activity a-reset csCat no-promode\" href=\"/forums/threads/2444685/your-son-name\">\n          <span class=\"topic a-default\" title=\"Cs: Your son name?\">\n           Your son name?\n          </span>\n          221\n         </a>\n         <a class=\"col-box activity a-reset csCat no-promode\" href=\"/forums/threads/2444770/jake-paul-vs-ben-askren-predictions\">\n          <span class=\"topic a-default\" title=\"Cs: Jake Paul vs Ben Askren predictions\">\n           Jake Paul vs Ben Askren predictions\n          </span>\n          27\n         </a>\n         <a class=\"col-box activity a-reset csCat no-promode\" href=\"/forums/threads/2444746/lan-waiting-room\">\n          <span class=\"topic a-default\" title=\"Cs: LAN waiting room\">\n           LAN waiting room\n          </span>\n          23\n         </a>\n         <a class=\"col-box activity a-reset csCat no-promode\" href=\"/forums/threads/2444725/faze-bootcamp\">\n          <span class=\"topic a-default\" title=\"Cs: Faze bootcamp\">\n           Faze bootcamp\n          </span>\n          64\n         </a>\n        </div>\n       </div>\n      </aside>\n      <aside class=\"column-ASdvuasdr123Gazx-box etbx\">\n       <div class=\"a-reset\">\n        <a href=\"http://out.hltv.org/1xbet_new.php?ref=/line/Esports/2177569-CSGO-ESEA-Premier-Season-36-Europe/99999619-Sprout-AGO/&amp;placement=widgetmain\">\n         <div class=\"column-ASdvuasdr123Gazx-box-header\">\n          <img class=\"column-ASdvuasdr123Gazx-box-header-img\" src=\"/img/static/logos/1xbet_night.png\"/>\n         </div>\n         <div class=\"column-ASdvuasdr123Gazx-box-content\">\n          <div class=\"column-ASdvuasdr123Gazx-box-content-teams\">\n           <div class=\"column-ASdvuasdr123Gazx-box-team\">\n            <div class=\"column-ASdvuasdr123Gazx-box-team-logo-container\">\n             <img alt=\"Sprout\" class=\"column-ASdvuasdr123Gazx-box-team-logo\" src=\"https://img-cdn.hltv.org/teamlogo/Ut8iEF66VCIbZGniMYn5jL.svg?ixlib=java-2.1.0&amp;s=e6ae4904320fcbb566d098641e22a474\" title=\"Sprout\"/>\n            </div>\n            <div class=\"column-ASdvuasdr123Gazx-box-odds\">\n             2.04\n            </div>\n           </div>\n           <div class=\"column-ASdvuasdr123Gazx-box-team\">\n            <div class=\"column-ASdvuasdr123Gazx-box-team-logo-container\">\n             <img alt=\"AGO\" class=\"column-ASdvuasdr123Gazx-box-team-logo\" src=\"https://img-cdn.hltv.org/teamlogo/iuUhjrnHkMEKJBo5W_Ug0u.png?ixlib=java-2.1.0&amp;w=50&amp;s=0aa4b3c6c3ff45a9dab5a7d699ecdb61\" srcset=\"https://img-cdn.hltv.org/teamlogo/iuUhjrnHkMEKJBo5W_Ug0u.png?ixlib=java-2.1.0&amp;w=100&amp;s=506db8878f327756f1b622ec25385489 2x\" title=\"AGO\"/>\n            </div>\n            <div class=\"column-ASdvuasdr123Gazx-box-odds\">\n             1.73\n            </div>\n           </div>\n          </div>\n          <div class=\"column-ASdvuasdr123Gazx-box-cta\">\n           BET NOW\n          </div>\n         </div>\n        </a>\n        <a class=\"flex\" href=\"https://out.hltv.org/1xbet_new.php?placement=ASdvuasdr123Gazxreg&amp;ref=registration/\">\n         <div class=\"column-ASdvuasdr123Gazx-box-bonus-container\">\n          <div class=\"column-ASdvuasdr123Gazx-box-bonus\">\n           HLTV\n          </div>\n          <div class=\"column-ASdvuasdr123Gazx-box-bonus-text\">\n           BONUS CODE\n          </div>\n         </div>\n        </a>\n       </div>\n      </aside>\n      <aside>\n       <h1>\n        <a class=\"a-reset\" data-link-tracking-column=\"[4th column]\" data-link-tracking-destination=\"Click on 'LATEST REPLAYS' [text]\" data-link-tracking-page=\"Frontpage\" href=\"/results?content=vod\">\n         LATEST REPLAYS\n        </a>\n       </h1>\n       <div class=\"col-box-con\">\n        <a class=\"col-box a-reset\" data-link-tracking-column=\"[4th column]\" data-link-tracking-destination=\"Click on 'VOD / DEMO' [box]\" data-link-tracking-page=\"Frontpage\" href=\"/matches/2347807/movistar-riders-vs-forze-republeague-tipos-season-1\">\n         <div class=\"teambox\">\n          <div class=\"teamrows\">\n           <div class=\"teamrow\">\n            <img alt=\"Europe\" class=\"flag\" src=\"/img/static/flags/30x20/EU.gif\" title=\"Europe\"/>\n            <span class=\"team\">\n             Movistar Riders\n            </span>\n           </div>\n           <div class=\"teamrow\">\n            <img alt=\"Russia\" class=\"flag\" src=\"/img/static/flags/30x20/RU.gif\" title=\"Russia\"/>\n            <span class=\"team\">\n             forZe\n            </span>\n           </div>\n          </div>\n          <div class=\"middleExtra\">\n           DEMO\n          </div>\n         </div>\n        </a>\n        <a class=\"col-box a-reset\" data-link-tracking-column=\"[4th column]\" data-link-tracking-destination=\"Click on 'VOD / DEMO' [box]\" data-link-tracking-page=\"Frontpage\" href=\"/matches/2347832/chiefs-vs-dynasty-esl-australia-nz-championship-season-12\">\n         <div class=\"teambox\">\n          <div class=\"teamrows\">\n           <div class=\"teamrow\">\n            <img alt=\"Australia\" class=\"flag\" src=\"/img/static/flags/30x20/AU.gif\" title=\"Australia\"/>\n            <span class=\"team\">\n             Chiefs\n            </span>\n           </div>\n           <div class=\"teamrow\">\n            <img alt=\"Australia\" class=\"flag\" src=\"/img/static/flags/30x20/AU.gif\" title=\"Australia\"/>\n            <span class=\"team\">\n             Dynasty\n            </span>\n           </div>\n          </div>\n          <div class=\"middleExtra\">\n           VOD\n          </div>\n         </div>\n        </a>\n        <a class=\"col-box a-reset\" data-link-tracking-column=\"[4th column]\" data-link-tracking-destination=\"Click on 'VOD / DEMO' [box]\" data-link-tracking-page=\"Frontpage\" href=\"/matches/2347795/fiend-vs-skade-spring-sweet-spring-1-regionals\">\n         <div class=\"teambox\">\n          <div class=\"teamrows\">\n           <div class=\"teamrow\">\n            <img alt=\"Bulgaria\" class=\"flag\" src=\"/img/static/flags/30x20/BG.gif\" title=\"Bulgaria\"/>\n            <span class=\"team\">\n             Fiend\n            </span>\n           </div>\n           <div class=\"teamrow\">\n            <img alt=\"Bulgaria\" class=\"flag\" src=\"/img/static/flags/30x20/BG.gif\" title=\"Bulgaria\"/>\n            <span class=\"team\">\n             SKADE\n            </span>\n           </div>\n          </div>\n          <div class=\"middleExtra\">\n           VOD\n          </div>\n         </div>\n        </a>\n        <a class=\"col-box a-reset\" data-link-tracking-column=\"[4th column]\" data-link-tracking-destination=\"Click on 'VOD / DEMO' [box]\" data-link-tracking-page=\"Frontpage\" href=\"/matches/2347796/blink-vs-onyx-spring-sweet-spring-1-regionals\">\n         <div class=\"teambox\">\n          <div class=\"teamrows\">\n           <div class=\"teamrow\">\n            <img alt=\"Albania\" class=\"flag\" src=\"/img/static/flags/30x20/AL.gif\" title=\"Albania\"/>\n            <span class=\"team\">\n             BLINK\n            </span>\n           </div>\n           <div class=\"teamrow\">\n            <img alt=\"Serbia\" class=\"flag\" src=\"/img/static/flags/30x20/RS.gif\" title=\"Serbia\"/>\n            <span class=\"team\">\n             ONYX\n            </span>\n           </div>\n          </div>\n          <div class=\"middleExtra\">\n           VOD\n          </div>\n         </div>\n        </a>\n        <a class=\"col-box a-reset\" data-link-tracking-column=\"[4th column]\" data-link-tracking-destination=\"Click on 'VOD / DEMO' [box]\" data-link-tracking-page=\"Frontpage\" href=\"/matches/2347902/dire-wolves-vs-vertex-esea-premier-season-36-australia\">\n         <div class=\"teambox\">\n          <div class=\"teamrows\">\n           <div class=\"teamrow\">\n            <img alt=\"Australia\" class=\"flag\" src=\"/img/static/flags/30x20/AU.gif\" title=\"Australia\"/>\n            <span class=\"team\">\n             Dire Wolves\n            </span>\n           </div>\n           <div class=\"teamrow\">\n            <img alt=\"Australia\" class=\"flag\" src=\"/img/static/flags/30x20/AU.gif\" title=\"Australia\"/>\n            <span class=\"team\">\n             VERTEX\n            </span>\n           </div>\n          </div>\n          <div class=\"middleExtra\">\n           VOD\n          </div>\n         </div>\n        </a>\n        <a class=\"col-box a-reset\" data-link-tracking-column=\"[4th column]\" data-link-tracking-destination=\"Click on 'VOD / DEMO' [box]\" data-link-tracking-page=\"Frontpage\" href=\"/matches/2347831/order-vs-simplicity-esl-australia-nz-championship-season-12\">\n         <div class=\"teambox\">\n          <div class=\"teamrows\">\n           <div class=\"teamrow\">\n            <img alt=\"Australia\" class=\"flag\" src=\"/img/static/flags/30x20/AU.gif\" title=\"Australia\"/>\n            <span class=\"team\">\n             ORDER\n            </span>\n           </div>\n           <div class=\"teamrow\">\n            <img alt=\"Australia\" class=\"flag\" src=\"/img/static/flags/30x20/AU.gif\" title=\"Australia\"/>\n            <span class=\"team\">\n             Simplicity\n            </span>\n           </div>\n          </div>\n          <div class=\"middleExtra\">\n           VOD\n          </div>\n         </div>\n        </a>\n        <a class=\"col-box a-reset\" data-link-tracking-column=\"[4th column]\" data-link-tracking-destination=\"Click on 'VOD / DEMO' [box]\" data-link-tracking-page=\"Frontpage\" href=\"/matches/2347909/navi-junior-vs-case-lootbet-season-9-closed-qualifier\">\n         <div class=\"teambox\">\n          <div class=\"teamrows\">\n           <div class=\"teamrow\">\n            <img alt=\"Ukraine\" class=\"flag\" src=\"/img/static/flags/30x20/UA.gif\" title=\"Ukraine\"/>\n            <span class=\"team\">\n             NAVI Junior\n            </span>\n           </div>\n           <div class=\"teamrow\">\n            <img alt=\"Brazil\" class=\"flag\" src=\"/img/static/flags/30x20/BR.gif\" title=\"Brazil\"/>\n            <span class=\"team\">\n             Case\n            </span>\n           </div>\n          </div>\n          <div class=\"middleExtra\">\n           DEMO\n          </div>\n         </div>\n        </a>\n        <a class=\"col-box a-reset\" data-link-tracking-column=\"[4th column]\" data-link-tracking-destination=\"Click on 'VOD / DEMO' [box]\" data-link-tracking-page=\"Frontpage\" href=\"/matches/2347793/skade-vs-onyx-spring-sweet-spring-1-regionals\">\n         <div class=\"teambox\">\n          <div class=\"teamrows\">\n           <div class=\"teamrow\">\n            <img alt=\"Bulgaria\" class=\"flag\" src=\"/img/static/flags/30x20/BG.gif\" title=\"Bulgaria\"/>\n            <span class=\"team\">\n             SKADE\n            </span>\n           </div>\n           <div class=\"teamrow\">\n            <img alt=\"Serbia\" class=\"flag\" src=\"/img/static/flags/30x20/RS.gif\" title=\"Serbia\"/>\n            <span class=\"team\">\n             ONYX\n            </span>\n           </div>\n          </div>\n          <div class=\"middleExtra\">\n           VOD\n          </div>\n         </div>\n        </a>\n        <a class=\"col-box a-reset\" data-link-tracking-column=\"[4th column]\" data-link-tracking-destination=\"Click on 'VOD / DEMO' [box]\" data-link-tracking-page=\"Frontpage\" href=\"/matches/2347794/fiend-vs-blink-spring-sweet-spring-1-regionals\">\n         <div class=\"teambox\">\n          <div class=\"teamrows\">\n           <div class=\"teamrow\">\n            <img alt=\"Bulgaria\" class=\"flag\" src=\"/img/static/flags/30x20/BG.gif\" title=\"Bulgaria\"/>\n            <span class=\"team\">\n             Fiend\n            </span>\n           </div>\n           <div class=\"teamrow\">\n            <img alt=\"Albania\" class=\"flag\" src=\"/img/static/flags/30x20/AL.gif\" title=\"Albania\"/>\n            <span class=\"team\">\n             BLINK\n            </span>\n           </div>\n          </div>\n          <div class=\"middleExtra\">\n           VOD\n          </div>\n         </div>\n        </a>\n        <a class=\"col-box a-reset\" data-link-tracking-column=\"[4th column]\" data-link-tracking-destination=\"Click on 'VOD / DEMO' [box]\" data-link-tracking-page=\"Frontpage\" href=\"/matches/2347925/pain-vs-pdhm-esea-advanced-season-36-north-america\">\n         <div class=\"teambox\">\n          <div class=\"teamrows\">\n           <div class=\"teamrow\">\n            <img alt=\"Brazil\" class=\"flag\" src=\"/img/static/flags/30x20/BR.gif\" title=\"Brazil\"/>\n            <span class=\"team\">\n             paiN\n            </span>\n           </div>\n           <div class=\"teamrow\">\n            <img alt=\"United States\" class=\"flag\" src=\"/img/static/flags/30x20/US.gif\" title=\"United States\"/>\n            <span class=\"team\">\n             PDHM\n            </span>\n           </div>\n          </div>\n          <div class=\"middleExtra\">\n           VOD\n          </div>\n         </div>\n        </a>\n       </div>\n      </aside>\n      <div class=\"kgN8P9bvyb2EqDJR\" id=\"g4_bottom\">\n       <a href=\"https://radeon.gg/?utm_source=hltv&amp;utm_medium=banner&amp;utm_campaign=sam&amp;utm_content=classic#smart\" target=\"_blank\">\n        <img height=\"600\" src=\"https://static.hltv.org//images/retina2/amd/sam.jpg\" style=\"background-color: #181715;\" width=\"160\"/>\n       </a>\n      </div>\n     </div>\n    </div>\n   </div>\n  </div>\n  <iframe aria-hidden=\"true\" name=\"__uspapiLocator\" role=\"presentation\" style=\"display: none; position: absolute; width: 1px; height: 1px; top: -9999px;\" tabindex=\"-1\" title=\"Blank\">\n  </iframe>\n  <iframe name=\"__tcfapiLocator\" style=\"display: none;\">\n  </iframe>\n  <iframe aria-hidden=\"true\" role=\"presentation\" src=\"https://consentcdn.cookiebot.com/sdk/bc-v3.min.html\" style=\"position: absolute; width: 1px; height: 1px; top: -9999px;\" tabindex=\"-1\" title=\"Blank\">\n  </iframe>\n  <footer class=\"footer\">\n   <div class=\"widthControl gtSmartphone-only footer-content\">\n    <div class=\"g-grid\">\n     <div class=\"col-6\">\n      <div class=\"footer-section footer-shop\">\n       <div class=\"footer-section-header\">\n        HLTV merchandise\n       </div>\n       <br/>\n       <div class=\"footer-section-subtext\">\n        Show your support for HLTV with our HLTV t-shirt\n       </div>\n       <div class=\"footer-section-cta\">\n        <a class=\"footer-cta-button\" href=\"https://shop.eslgaming.com/products/hltv-t-shirt/?ref=hltv.org\" target=\"_blank\">\n         Buy HLTV t-shirt\n        </a>\n       </div>\n       <img class=\"footer-img\" src=\"/img/static/footer/hltv_shirt.png\"/>\n      </div>\n     </div>\n     <div class=\"col-6\">\n      <div class=\"footer-section footer-app\">\n       <div class=\"footer-section-header\">\n        Download the HLTV app\n       </div>\n       <br/>\n       <div class=\"footer-section-subtext\">\n        Optimized to keep you up to date on the go\n       </div>\n       <div class=\"footer-section-cta\">\n        <a class=\"footer-cta-img\" href=\"https://apps.apple.com/us/app/hltv-org/id1078945675\" target=\"_blank\">\n         <img class=\"appstoreButton\" src=\"/img/static/gfx/app/appButton.svg\"/>\n        </a>\n        <a class=\"footer-cta-img\" href=\"https://play.google.com/store/apps/details?id=org.hltv.android\" target=\"_blank\">\n         <img class=\"playstoreButton\" src=\"/img/static/gfx/app/playButton.png\"/>\n        </a>\n       </div>\n       <img class=\"footer-img\" src=\"/img/static/footer/app.png\"/>\n      </div>\n     </div>\n    </div>\n   </div>\n   <div class=\"widthControl footerlinks\">\n    <span>\n     <a class=\"footerlink\" href=\"/jobs\">\n      Jobs\n     </a>\n    </span>\n    <span>\n     <a class=\"footerlink\" href=\"/contact\">\n      Contact\n     </a>\n    </span>\n    <span>\n     <a class=\"footerlink\" href=\"/terms\">\n      Terms\n     </a>\n    </span>\n    <span>\n     <a class=\"footerlink\" href=\"/privacy\">\n      Privacy policy\n     </a>\n    </span>\n    <span>\n     <a class=\"footerlink\" href=\"/cookie-policy\">\n      Cookie policy\n     </a>\n    </span>\n    <span>\n     <a class=\"footerlink\" href=\"/disclosure\">\n      Disclosures\n     </a>\n    </span>\n    <span class=\"gtSmartphone-only\">\n     <a class=\"footerlink\" href=\"/rss/news\">\n      RSS\n     </a>\n    </span>\n    <span class=\"gtSmartphone-only\">\n     <a class=\"footerlink socicon\" href=\"https://www.facebook.com/HLTV.org\" target=\"_blank\">\n      <i aria-hidden=\"true\" class=\"fa fa-facebook\">\n      </i>\n     </a>\n     <a class=\"footerlink socicon\" href=\"https://www.twitch.tv/hltvorg\" target=\"_blank\">\n      <i aria-hidden=\"true\" class=\"fa fa-twitch\">\n      </i>\n     </a>\n     <a class=\"footerlink socicon\" href=\"https://www.youtube.com/user/wwwHLTVorg\" target=\"_blank\">\n      <i aria-hidden=\"true\" class=\"fa fa-youtube\">\n      </i>\n     </a>\n     <a class=\"footerlink socicon\" href=\"https://www.twitter.com/HLTVorg\" target=\"_blank\">\n      <i aria-hidden=\"true\" class=\"fa fa-twitter\">\n      </i>\n     </a>\n     <a class=\"footerlink socicon\" href=\"https://vk.com/hltvorg\" target=\"_blank\">\n      <i aria-hidden=\"true\" class=\"fa fa-vk\">\n      </i>\n     </a>\n     <a class=\"footerlink socicon\" href=\"https://www.instagram.com/hltvorg/\" target=\"_blank\">\n      <i aria-hidden=\"true\" class=\"fa fa-instagram\">\n      </i>\n     </a>\n    </span>\n    <span>\n     <span class=\"footer-hltv\">\n      © HLTV.org\n     </span>\n    </span>\n   </div>\n   <div class=\"widthControl footer-responsible-container\">\n    <a href=\"https://www.gamblingtherapy.org\">\n     <img class=\"invertNight gamcare-logo\" src=\"/img/static/gamcare.png\"/>\n    </a>\n    18+ Bet Responsibly |\n    <a href=\"https://www.begambleaware.org/\">\n     <img class=\"invertNight gambleaware-logo\" src=\"/img/static/gambleaware.png\"/>\n    </a>\n   </div>\n  </footer>\n  <!--Version: 2.2.208-->\n  <!--Country: es-->\n  <!--\n-->\n  <div id=\"overlay\">\n   <div class=\"overlay-stack-context\">\n   </div>\n  </div>\n  <button class=\"leftColPullInButton\">\n   <i aria-hidden=\"true\" class=\"fa fa-th-list\">\n   </i>\n  </button>\n  <noscript>\n   <img class=\"pixel-tracking\" src=\"https://my.rtmark.net/img.gif?f=sync&amp;lr=1&amp;partner=68c84d97734bf7f44eec38b5777a048387b640c517aa53ad20b91247a58f7296\"/>\n  </noscript>\n  <noscript>\n   <img class=\"pixel-tracking\" src=\"https://www.facebook.com/tr?id=421599362160953&amp;ev=PageView&amp;noscript=1\"/>\n  </noscript>\n  <noscript>\n   <img class=\"pixel-tracking\" src=\"https://www.facebook.com/tr?id=2493612480931660&amp;ev=PageView&amp;noscript=1\"/>\n  </noscript>\n  <script src=\"//tr.outbrain.com/cachedClickId?marketerId=00f0edcdad6d0f430c09d4065d73a383f8\">\n  </script>\n  <img src=\"https://my.rtmark.net/img.gif?f=sync&amp;partner=68c84d97734bf7f44eec38b5777a048387b640c517aa53ad20b91247a58f7296&amp;ttl=&amp;rurl=https%3A%2F%2Fwww.hltv.org%2F%2Fmatches%2F2347840%2Fizako-boars-vs-blink-esea-advanced-season-36-europe\" style=\"position: absolute; width: 1px; height: 1px; left: 0px; bottom: 0px; opacity: 0;\"/>\n  <script class=\"ywa-10000\" defer=\"\" id=\"ywa-1618489246236-453439\" src=\"https://sp.analytics.yahoo.com/sp.pl?a=10000&amp;d=Thu%2C%2015%20Apr%202021%2012%3A20%3A46%20GMT&amp;n=-2d&amp;b=Izako%20Boars%20vs.%20BLINK%20at%20ESEA%20Advanced%20Season%2036%20Europe%20%7C%20HLTV.org&amp;.yp=10135249&amp;f=https%3A%2F%2Fwww.hltv.org%2F%2Fmatches%2F2347840%2Fizako-boars-vs-blink-esea-advanced-season-36-europe&amp;enc=UTF-8&amp;gdpr=1&amp;gdpr_consent=CPEsNQsPEsNQsCGABBENBVCsAP_AAH_AAAAAHsNf_X__b3_j-_79__t0eY1f9_7_v-0zjhfdt-8N2f_X_L8X_2M7vF36pr4KuR4ku3bBIQdtHOncTUmx6olVrTPsbk2Mr7NKJ7Pkmnsbe2dYGH9_n93T_ZKZ7______7________________________-_____9_______wPVAJMNS-ACzEscGSaNKoUQIQrCQ6AUAFFCMLRNYQMrgp2VwEeoIGACE1ARgRAgxBRiwCAAQCAJCIgJADwQCIAiAQAAgBUgIQAEbAILACwMAgAFANCxAigCECQgyOCo5TAgIkWignsrAEou9jTCEMosAKBR_RUYCJUggWBkAAA.YAAAAAAAAAAA&amp;us_privacy=1---\" type=\"application/javascript\">\n  </script>\n </body>\n</html>\n"
     ]
    }
   ],
   "source": [
    "soup = get_page_data(\"/matches/2347840/izako-boars-vs-blink-esea-advanced-season-36-europe\") #gets the soup for matchpage from match links\n",
    "print(soup.prettify())"
   ]
  },
  {
   "cell_type": "code",
   "execution_count": 88,
   "metadata": {},
   "outputs": [
    {
     "output_type": "stream",
     "name": "stdout",
     "text": [
      "Team1Picked\nTeam1Picked\nTeam2Picked\nTeam2Picked\n"
     ]
    }
   ],
   "source": [
    "for div in soup.find_all('div',class_=\"pick\"):\n",
    "    if \"results-left\" not in div:\n",
    "        print(\"Team1Picked\")\n",
    "    else:\n",
    "        print(\"Team2Picked\")\n",
    "\n",
    "for span in soup.find_all('span',class_=\"pick\"):\n",
    "        if \"results-right\" not in span:\n",
    "            print(\"Team2Picked\")\n",
    "        else:\n",
    "            print(\"Team1Picked\")"
   ]
  },
  {
   "cell_type": "code",
   "execution_count": 269,
   "metadata": {
    "tags": []
   },
   "outputs": [],
   "source": [
    "#FETCH PICK\n",
    "\n",
    "\n",
    "def get_map_picks(soup):\n",
    "    item = soup.find(True,class_=\"flexbox-column\")\n",
    "    pick_dict = {}\n",
    "    for game in item.find_all(True,class_=\"mapholder\"):\n",
    "        #print(game.contents[1].contents[1].text)\n",
    "        if 'pick' in str(game.contents[3].contents[1].attrs):\n",
    "            #print(\"T1_pick\")\n",
    "            pick_dict[game.contents[1].contents[1].text.strip(\"\\n\")] = '1'\n",
    "        elif 'pick' in str(game.contents[3].contents[5].attrs):\n",
    "            #print(\"T2_pick\")\n",
    "            pick_dict[game.contents[1].contents[1].text.strip(\"\\n\")] = '0'\n",
    "        else:\n",
    "            #print(\"error\")\n",
    "            pick_dict[game.contents[1].contents[1].text.strip(\"\\n\")] = 'NA'\n",
    "    return pick_dict\n",
    "\n",
    "    #print(game.contents)\n",
    "    #print(\"###\")\n",
    "    \n",
    "    #print(game.contents[3].contents[5].attrs)\n",
    "    #print(\"-------------------\")\n",
    "    #print(game.contents[3].contents[1])\n",
    "    \n",
    "\n"
   ]
  },
  {
   "cell_type": "code",
   "execution_count": 222,
   "metadata": {},
   "outputs": [
    {
     "output_type": "stream",
     "name": "stdout",
     "text": [
      "\n\n1. MIBR removed Nuke\n2. FURIA removed Dust2\n3. MIBR picked Mirage\n4. FURIA picked Vertigo\n5. MIBR removed Inferno\n6. FURIA removed Overpass\n7. Train was left over\n\n\n"
     ]
    }
   ],
   "source": [
    "\n",
    "print("
   ]
  }
 ]
}