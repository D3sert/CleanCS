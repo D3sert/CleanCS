{
 "cells": [
  {
   "cell_type": "code",
   "execution_count": 24,
   "source": [
    "import json\r\n",
    "import numpy as np  # linear algebra\r\n",
    "import pandas as pd  # data processing, CSV file I/O (e.g. pd.read_csv)\r\n",
    "import pandas_profiling\r\n",
    "import matplotlib.pyplot as plt\r\n",
    "from sklearn.preprocessing import LabelEncoder\r\n",
    "import seaborn as sns\r\n",
    "from datetime import datetime\r\n",
    "\r\n",
    "import itertools\r\n",
    "import math\r\n",
    "\r\n",
    "\r\n",
    "from trueskill import Rating, quality_1vs1, rate_1vs1, setup, global_env, TrueSkill, rate\r\n",
    "\r\n",
    "\r\n",
    "setup(mu=25.0, sigma=8.333333333333334, beta=4.166666666666667,\r\n",
    "      tau=0.08333333333333334, draw_probability=0)\r\n"
   ],
   "outputs": [
    {
     "output_type": "execute_result",
     "data": {
      "text/plain": [
       "trueskill.TrueSkill(mu=25.000, sigma=8.333, beta=4.167, tau=0.083, draw_probability=0.0%)"
      ]
     },
     "metadata": {},
     "execution_count": 24
    }
   ],
   "metadata": {}
  },
  {
   "cell_type": "code",
   "execution_count": 25,
   "source": [
    "with open('C:\\REPOS\\CSGO\\main.json') as f:\r\n",
    "  data = json.load(f)\r\n",
    "\r\n",
    "\r\n",
    "\r\n"
   ],
   "outputs": [],
   "metadata": {}
  },
  {
   "cell_type": "code",
   "execution_count": null,
   "source": [
    "11287 - len(data)"
   ],
   "outputs": [],
   "metadata": {}
  },
  {
   "cell_type": "code",
   "execution_count": null,
   "source": [
    "#data[\"2298365\"].get(\"Teams\")\r\n",
    "#data.keys()\r\n",
    "# data[\"2298365\"]"
   ],
   "outputs": [],
   "metadata": {}
  },
  {
   "cell_type": "markdown",
   "source": [
    "# Prepare Init DF from JSON"
   ],
   "metadata": {}
  },
  {
   "cell_type": "code",
   "execution_count": 26,
   "source": [
    "Elo = pd.DataFrame(columns=[\"MatchID\",\"Team1\",\"Team2\",\"Winner\"])\r\n",
    "for matchid in data.keys():\r\n",
    "    t1,t2 = data[matchid].get(\"Teams\")\r\n",
    "    s1, s2 = data[matchid].get(\"Score\")\r\n",
    "    winner = 1 if s1>s2 else 2\r\n",
    "    Elo = Elo.append({\"MatchID\": matchid, \"Team1\": t1,\r\n",
    "                \"Team2\": t2, \"Winner\" : winner }, ignore_index=True)\r\n",
    "\r\n",
    "teams = pd.concat([pd.DataFrame(Elo.Team1.unique()),\r\n",
    "                   pd.DataFrame(Elo.Team2.unique())])\r\n",
    "teams = teams[0].unique()\r\n"
   ],
   "outputs": [],
   "metadata": {}
  },
  {
   "cell_type": "code",
   "execution_count": null,
   "source": [
    "#Elo[\"Team1\"].value_counts()\r\n",
    "\r\n",
    "#FILTER TEAMS BY FREQ\r\n",
    "\r\n",
    "# filtered = filter_by_freq(df=Elo,column=\"Team1\",min_freq=10)\r\n",
    "# filtered = filter_by_freq(df=filtered,column=\"Team2\",min_freq=10)"
   ],
   "outputs": [],
   "metadata": {}
  },
  {
   "cell_type": "markdown",
   "source": [
    "# TRUESKILL"
   ],
   "metadata": {}
  },
  {
   "cell_type": "code",
   "execution_count": null,
   "source": [
    "Elo"
   ],
   "outputs": [],
   "metadata": {}
  },
  {
   "cell_type": "code",
   "execution_count": 27,
   "source": [
    "# reset or create Dataframe\r\n",
    "trueskill_df = Elo.copy()\r\n",
    "\r\n",
    "#label encoding:\r\n",
    "le = LabelEncoder()\r\n",
    "\r\n",
    "le.fit(teams)\r\n",
    "\r\n",
    "trueskill_df.Team1 = le.transform(trueskill_df.Team1)\r\n",
    "trueskill_df.Team2 = le.transform(trueskill_df.Team2)\r\n",
    "\r\n",
    "trueskill_df['Team1winchance'] = 0.0\r\n",
    "trueskill_df['Team2winchance'] = 0.0\r\n",
    "\r\n",
    "\r\n",
    "trueskill_df['w_ts_after_game'] = Rating()\r\n",
    "trueskill_df['l_ts_after_game'] = Rating()\r\n",
    "trueskill_df['w_ts_before_game'] = Rating()\r\n",
    "trueskill_df['l_ts_before_game'] = Rating()\r\n",
    "\r\n",
    "# trueskill_df['w_ts_before_mu'] = 0\r\n",
    "# trueskill_df['w_ts_after_mu'] = 0\r\n",
    "# trueskill_df['l_ts_before_mu'] = 0\r\n",
    "# trueskill_df['l_ts_after_mu'] = 0\r\n",
    "# trueskill_df['w_ts_before_sigma'] = 0.0\r\n",
    "# trueskill_df['w_ts_after_sigma'] = 0.0\r\n",
    "# trueskill_df['l_ts_before_sigma'] = 0.0\r\n",
    "# trueskill_df['l_ts_after_sigma'] = 0.0\r\n",
    "\r\n",
    "n_teams = len(teams)\r\n",
    "current_ts = np.full(n_teams, Rating())\r\n",
    "\r\n",
    "\r\n"
   ],
   "outputs": [],
   "metadata": {}
  },
  {
   "cell_type": "code",
   "execution_count": null,
   "source": [
    "trueskill_df"
   ],
   "outputs": [],
   "metadata": {}
  },
  {
   "cell_type": "code",
   "execution_count": 28,
   "source": [
    "def win_probability(team1, team2, BETA=4.166666666666667,decimal=3):\r\n",
    "    delta_mu = sum(r.mu for r in team1) - sum(r.mu for r in team2)\r\n",
    "    sum_sigma = sum(r.sigma ** 2 for r in itertools.chain(team1, team2))\r\n",
    "    size = len(team1) + len(team2)\r\n",
    "    denom = math.sqrt(size * (BETA * BETA) + sum_sigma)\r\n",
    "    ts = global_env()\r\n",
    "    return round(ts.cdf(delta_mu / denom),decimal)\r\n"
   ],
   "outputs": [],
   "metadata": {}
  },
  {
   "cell_type": "code",
   "execution_count": null,
   "source": [
    "env = TrueSkill()\r\n",
    "leaderboard = sorted(current_ts, key=env.expose, reverse=True)\r\n",
    "leaderboard"
   ],
   "outputs": [],
   "metadata": {}
  },
  {
   "cell_type": "code",
   "execution_count": 29,
   "source": [
    "for row in trueskill_df.itertuples():\r\n",
    "    idx = row.Index\r\n",
    "    w_id = row.Team1 if row.Winner == 1 else row.Team2\r\n",
    "    l_id = row.Team2 if row.Winner == 1 else row.Team1\r\n",
    "\r\n",
    "    #get current TS\r\n",
    "    w_ts_before = current_ts[w_id]\r\n",
    "    l_ts_before = current_ts[l_id]\r\n",
    "\r\n",
    "\r\n",
    "    #update TS\r\n",
    "    w_ts_after, l_ts_after = rate_1vs1(w_ts_before, l_ts_before)\r\n",
    "\r\n",
    "\r\n",
    "    #  getwinchance\r\n",
    "    winchance = win_probability([w_ts_before], [l_ts_before])\r\n",
    "\r\n",
    "\r\n",
    "\r\n",
    "    if row.Winner == 1:\r\n",
    "        trueskill_df.at[idx, 'Team1winchance'] = winchance\r\n",
    "        trueskill_df.at[idx, 'Team2winchance'] = 1-winchance\r\n",
    "    if row.Winner == 2:\r\n",
    "        trueskill_df.at[idx, 'Team2winchance'] = 1-winchance\r\n",
    "        trueskill_df.at[idx, 'Team1winchance'] = winchance\r\n",
    "\r\n",
    "\r\n",
    "    #save\r\n",
    "    trueskill_df.at[idx, 'w_ts_before_game'] = w_ts_before\r\n",
    "    trueskill_df.at[idx, 'l_ts_before_game'] = l_ts_before\r\n",
    "    trueskill_df.at[idx, 'w_ts_after_game'] = w_ts_after\r\n",
    "    trueskill_df.at[idx, 'l_ts_after_game'] = l_ts_after\r\n",
    "\r\n",
    "    # trueskill_df.at[idx, 'w_ts_before_mu'] = w_ts_before.mu\r\n",
    "    # trueskill_df.at[idx, 'w_ts_after_mu'] = w_ts_after.mu\r\n",
    "    # trueskill_df.at[idx, 'l_ts_before_mu'] = l_ts_before.mu\r\n",
    "    # trueskill_df.at[idx, 'l_ts_after_mu'] = l_ts_after.mu\r\n",
    "    # trueskill_df.at[idx, 'w_ts_before_sigma'] = w_ts_before.sigma\r\n",
    "    # trueskill_df.at[idx, 'w_ts_after_sigma'] = w_ts_after.sigma\r\n",
    "    # trueskill_df.at[idx, 'l_ts_before_sigma'] = l_ts_before.sigma\r\n",
    "    # trueskill_df.at[idx, 'l_ts_after_sigma'] = l_ts_after.sigma\r\n",
    "    current_ts[w_id] = w_ts_after\r\n",
    "    current_ts[l_id] = l_ts_after\r\n"
   ],
   "outputs": [],
   "metadata": {}
  },
  {
   "cell_type": "code",
   "execution_count": 30,
   "source": [
    "trueskill_df"
   ],
   "outputs": [
    {
     "output_type": "execute_result",
     "data": {
      "text/plain": [
       "       MatchID  Team1  Team2 Winner  Team1winchance  Team2winchance  \\\n",
       "0      2298365    455    172      2           0.500           0.500   \n",
       "1      2298366    455    137      2           0.632           0.368   \n",
       "2      2298361    402    475      1           0.500           0.500   \n",
       "3      2298367    137    172      1           0.470           0.530   \n",
       "4      2298372    111    304      2           0.500           0.500   \n",
       "...        ...    ...    ...    ...             ...             ...   \n",
       "10751  2348377    456    484      1           0.466           0.534   \n",
       "10752  2348009    211     56      1           0.397           0.603   \n",
       "10753  2348379    456    306      1           0.381           0.619   \n",
       "10754  2348010    192    347      2           0.553           0.447   \n",
       "10755  2348011    218    211      1           0.557           0.443   \n",
       "\n",
       "                                w_ts_after_game  \\\n",
       "0      trueskill.Rating(mu=29.205, sigma=7.195)   \n",
       "1      trueskill.Rating(mu=28.318, sigma=7.227)   \n",
       "2      trueskill.Rating(mu=29.205, sigma=7.195)   \n",
       "3      trueskill.Rating(mu=32.072, sigma=6.277)   \n",
       "4      trueskill.Rating(mu=29.205, sigma=7.195)   \n",
       "...                                         ...   \n",
       "10751  trueskill.Rating(mu=24.437, sigma=1.934)   \n",
       "10752  trueskill.Rating(mu=28.355, sigma=0.796)   \n",
       "10753  trueskill.Rating(mu=25.032, sigma=1.871)   \n",
       "10754  trueskill.Rating(mu=29.361, sigma=0.799)   \n",
       "10755  trueskill.Rating(mu=29.299, sigma=0.809)   \n",
       "\n",
       "                                l_ts_after_game  \\\n",
       "0      trueskill.Rating(mu=20.795, sigma=7.195)   \n",
       "1      trueskill.Rating(mu=18.321, sigma=6.496)   \n",
       "2      trueskill.Rating(mu=20.795, sigma=7.195)   \n",
       "3      trueskill.Rating(mu=25.485, sigma=6.258)   \n",
       "4      trueskill.Rating(mu=20.795, sigma=7.195)   \n",
       "...                                         ...   \n",
       "10751  trueskill.Rating(mu=19.304, sigma=6.342)   \n",
       "10752  trueskill.Rating(mu=29.716, sigma=0.798)   \n",
       "10753  trueskill.Rating(mu=26.152, sigma=1.080)   \n",
       "10754  trueskill.Rating(mu=28.405, sigma=0.811)   \n",
       "10755  trueskill.Rating(mu=28.279, sigma=0.796)   \n",
       "\n",
       "                               w_ts_before_game  \\\n",
       "0      trueskill.Rating(mu=25.000, sigma=8.333)   \n",
       "1      trueskill.Rating(mu=25.000, sigma=8.333)   \n",
       "2      trueskill.Rating(mu=25.000, sigma=8.333)   \n",
       "3      trueskill.Rating(mu=28.318, sigma=7.227)   \n",
       "4      trueskill.Rating(mu=25.000, sigma=8.333)   \n",
       "...                                         ...   \n",
       "10751  trueskill.Rating(mu=24.123, sigma=1.955)   \n",
       "10752  trueskill.Rating(mu=28.251, sigma=0.796)   \n",
       "10753  trueskill.Rating(mu=24.437, sigma=1.934)   \n",
       "10754  trueskill.Rating(mu=29.284, sigma=0.800)   \n",
       "10755  trueskill.Rating(mu=29.221, sigma=0.809)   \n",
       "\n",
       "                               l_ts_before_game  \n",
       "0      trueskill.Rating(mu=25.000, sigma=8.333)  \n",
       "1      trueskill.Rating(mu=20.795, sigma=7.195)  \n",
       "2      trueskill.Rating(mu=25.000, sigma=8.333)  \n",
       "3      trueskill.Rating(mu=29.205, sigma=7.195)  \n",
       "4      trueskill.Rating(mu=25.000, sigma=8.333)  \n",
       "...                                         ...  \n",
       "10751  trueskill.Rating(mu=25.000, sigma=8.333)  \n",
       "10752  trueskill.Rating(mu=29.820, sigma=0.799)  \n",
       "10753  trueskill.Rating(mu=26.341, sigma=1.088)  \n",
       "10754  trueskill.Rating(mu=28.484, sigma=0.811)  \n",
       "10755  trueskill.Rating(mu=28.355, sigma=0.796)  \n",
       "\n",
       "[10756 rows x 10 columns]"
      ],
      "text/html": [
       "<div>\n",
       "<style scoped>\n",
       "    .dataframe tbody tr th:only-of-type {\n",
       "        vertical-align: middle;\n",
       "    }\n",
       "\n",
       "    .dataframe tbody tr th {\n",
       "        vertical-align: top;\n",
       "    }\n",
       "\n",
       "    .dataframe thead th {\n",
       "        text-align: right;\n",
       "    }\n",
       "</style>\n",
       "<table border=\"1\" class=\"dataframe\">\n",
       "  <thead>\n",
       "    <tr style=\"text-align: right;\">\n",
       "      <th></th>\n",
       "      <th>MatchID</th>\n",
       "      <th>Team1</th>\n",
       "      <th>Team2</th>\n",
       "      <th>Winner</th>\n",
       "      <th>Team1winchance</th>\n",
       "      <th>Team2winchance</th>\n",
       "      <th>w_ts_after_game</th>\n",
       "      <th>l_ts_after_game</th>\n",
       "      <th>w_ts_before_game</th>\n",
       "      <th>l_ts_before_game</th>\n",
       "    </tr>\n",
       "  </thead>\n",
       "  <tbody>\n",
       "    <tr>\n",
       "      <th>0</th>\n",
       "      <td>2298365</td>\n",
       "      <td>455</td>\n",
       "      <td>172</td>\n",
       "      <td>2</td>\n",
       "      <td>0.500</td>\n",
       "      <td>0.500</td>\n",
       "      <td>trueskill.Rating(mu=29.205, sigma=7.195)</td>\n",
       "      <td>trueskill.Rating(mu=20.795, sigma=7.195)</td>\n",
       "      <td>trueskill.Rating(mu=25.000, sigma=8.333)</td>\n",
       "      <td>trueskill.Rating(mu=25.000, sigma=8.333)</td>\n",
       "    </tr>\n",
       "    <tr>\n",
       "      <th>1</th>\n",
       "      <td>2298366</td>\n",
       "      <td>455</td>\n",
       "      <td>137</td>\n",
       "      <td>2</td>\n",
       "      <td>0.632</td>\n",
       "      <td>0.368</td>\n",
       "      <td>trueskill.Rating(mu=28.318, sigma=7.227)</td>\n",
       "      <td>trueskill.Rating(mu=18.321, sigma=6.496)</td>\n",
       "      <td>trueskill.Rating(mu=25.000, sigma=8.333)</td>\n",
       "      <td>trueskill.Rating(mu=20.795, sigma=7.195)</td>\n",
       "    </tr>\n",
       "    <tr>\n",
       "      <th>2</th>\n",
       "      <td>2298361</td>\n",
       "      <td>402</td>\n",
       "      <td>475</td>\n",
       "      <td>1</td>\n",
       "      <td>0.500</td>\n",
       "      <td>0.500</td>\n",
       "      <td>trueskill.Rating(mu=29.205, sigma=7.195)</td>\n",
       "      <td>trueskill.Rating(mu=20.795, sigma=7.195)</td>\n",
       "      <td>trueskill.Rating(mu=25.000, sigma=8.333)</td>\n",
       "      <td>trueskill.Rating(mu=25.000, sigma=8.333)</td>\n",
       "    </tr>\n",
       "    <tr>\n",
       "      <th>3</th>\n",
       "      <td>2298367</td>\n",
       "      <td>137</td>\n",
       "      <td>172</td>\n",
       "      <td>1</td>\n",
       "      <td>0.470</td>\n",
       "      <td>0.530</td>\n",
       "      <td>trueskill.Rating(mu=32.072, sigma=6.277)</td>\n",
       "      <td>trueskill.Rating(mu=25.485, sigma=6.258)</td>\n",
       "      <td>trueskill.Rating(mu=28.318, sigma=7.227)</td>\n",
       "      <td>trueskill.Rating(mu=29.205, sigma=7.195)</td>\n",
       "    </tr>\n",
       "    <tr>\n",
       "      <th>4</th>\n",
       "      <td>2298372</td>\n",
       "      <td>111</td>\n",
       "      <td>304</td>\n",
       "      <td>2</td>\n",
       "      <td>0.500</td>\n",
       "      <td>0.500</td>\n",
       "      <td>trueskill.Rating(mu=29.205, sigma=7.195)</td>\n",
       "      <td>trueskill.Rating(mu=20.795, sigma=7.195)</td>\n",
       "      <td>trueskill.Rating(mu=25.000, sigma=8.333)</td>\n",
       "      <td>trueskill.Rating(mu=25.000, sigma=8.333)</td>\n",
       "    </tr>\n",
       "    <tr>\n",
       "      <th>...</th>\n",
       "      <td>...</td>\n",
       "      <td>...</td>\n",
       "      <td>...</td>\n",
       "      <td>...</td>\n",
       "      <td>...</td>\n",
       "      <td>...</td>\n",
       "      <td>...</td>\n",
       "      <td>...</td>\n",
       "      <td>...</td>\n",
       "      <td>...</td>\n",
       "    </tr>\n",
       "    <tr>\n",
       "      <th>10751</th>\n",
       "      <td>2348377</td>\n",
       "      <td>456</td>\n",
       "      <td>484</td>\n",
       "      <td>1</td>\n",
       "      <td>0.466</td>\n",
       "      <td>0.534</td>\n",
       "      <td>trueskill.Rating(mu=24.437, sigma=1.934)</td>\n",
       "      <td>trueskill.Rating(mu=19.304, sigma=6.342)</td>\n",
       "      <td>trueskill.Rating(mu=24.123, sigma=1.955)</td>\n",
       "      <td>trueskill.Rating(mu=25.000, sigma=8.333)</td>\n",
       "    </tr>\n",
       "    <tr>\n",
       "      <th>10752</th>\n",
       "      <td>2348009</td>\n",
       "      <td>211</td>\n",
       "      <td>56</td>\n",
       "      <td>1</td>\n",
       "      <td>0.397</td>\n",
       "      <td>0.603</td>\n",
       "      <td>trueskill.Rating(mu=28.355, sigma=0.796)</td>\n",
       "      <td>trueskill.Rating(mu=29.716, sigma=0.798)</td>\n",
       "      <td>trueskill.Rating(mu=28.251, sigma=0.796)</td>\n",
       "      <td>trueskill.Rating(mu=29.820, sigma=0.799)</td>\n",
       "    </tr>\n",
       "    <tr>\n",
       "      <th>10753</th>\n",
       "      <td>2348379</td>\n",
       "      <td>456</td>\n",
       "      <td>306</td>\n",
       "      <td>1</td>\n",
       "      <td>0.381</td>\n",
       "      <td>0.619</td>\n",
       "      <td>trueskill.Rating(mu=25.032, sigma=1.871)</td>\n",
       "      <td>trueskill.Rating(mu=26.152, sigma=1.080)</td>\n",
       "      <td>trueskill.Rating(mu=24.437, sigma=1.934)</td>\n",
       "      <td>trueskill.Rating(mu=26.341, sigma=1.088)</td>\n",
       "    </tr>\n",
       "    <tr>\n",
       "      <th>10754</th>\n",
       "      <td>2348010</td>\n",
       "      <td>192</td>\n",
       "      <td>347</td>\n",
       "      <td>2</td>\n",
       "      <td>0.553</td>\n",
       "      <td>0.447</td>\n",
       "      <td>trueskill.Rating(mu=29.361, sigma=0.799)</td>\n",
       "      <td>trueskill.Rating(mu=28.405, sigma=0.811)</td>\n",
       "      <td>trueskill.Rating(mu=29.284, sigma=0.800)</td>\n",
       "      <td>trueskill.Rating(mu=28.484, sigma=0.811)</td>\n",
       "    </tr>\n",
       "    <tr>\n",
       "      <th>10755</th>\n",
       "      <td>2348011</td>\n",
       "      <td>218</td>\n",
       "      <td>211</td>\n",
       "      <td>1</td>\n",
       "      <td>0.557</td>\n",
       "      <td>0.443</td>\n",
       "      <td>trueskill.Rating(mu=29.299, sigma=0.809)</td>\n",
       "      <td>trueskill.Rating(mu=28.279, sigma=0.796)</td>\n",
       "      <td>trueskill.Rating(mu=29.221, sigma=0.809)</td>\n",
       "      <td>trueskill.Rating(mu=28.355, sigma=0.796)</td>\n",
       "    </tr>\n",
       "  </tbody>\n",
       "</table>\n",
       "<p>10756 rows × 10 columns</p>\n",
       "</div>"
      ]
     },
     "metadata": {},
     "execution_count": 30
    }
   ],
   "metadata": {}
  },
  {
   "cell_type": "code",
   "execution_count": null,
   "source": [
    "#\r\n",
    "#   LABEL ENCODING HELP\r\n",
    "#\r\n",
    "#\r\n",
    "#\r\n",
    "#  trueskill_df[\"Team1\"] = le.inverse_transform(\r\n",
    "#     trueskill_df[\"Team1\"].astype(int))\r\n",
    "# trueskill_df[\"Team2\"] = le.inverse_transform(\r\n",
    "#     trueskill_df[\"Team2\"].astype(int))\r\n",
    "\r\n",
    "\r\n",
    "# trueskill_df.Team1 = le.transform(trueskill_df.Team1)\r\n",
    "# trueskill_df.Team2 = le.transform(trueskill_df.Team2)\r\n",
    "\r\n",
    "\r\n",
    "\r\n",
    "#   DECODED DF\r\n",
    "\r\n",
    "decoded_df = trueskill_df.copy()\r\n",
    "\r\n",
    "decoded_df[\"Team1\"] = le.inverse_transform(decoded_df[\"Team1\"].astype(int))\r\n",
    "decoded_df[\"Team2\"] = le.inverse_transform(decoded_df[\"Team2\"].astype(int))\r\n"
   ],
   "outputs": [],
   "metadata": {}
  },
  {
   "cell_type": "code",
   "execution_count": null,
   "source": [
    "\r\n",
    "decoded_df = decoded_df.sort_index(axis=0, ascending=False)\r\n",
    "decoded_df\r\n"
   ],
   "outputs": [],
   "metadata": {}
  },
  {
   "cell_type": "code",
   "execution_count": null,
   "source": [
    "teams_df = pd.DataFrame(teams)\r\n",
    "teams_df\r\n"
   ],
   "outputs": [],
   "metadata": {}
  },
  {
   "cell_type": "code",
   "execution_count": null,
   "source": [
    "def team_exists(team, df=teams):\r\n",
    "    res = sum(np.where(df == team,1,0))\r\n",
    "    return True if res != 0 else False\r\n"
   ],
   "outputs": [],
   "metadata": {}
  },
  {
   "cell_type": "code",
   "execution_count": null,
   "source": [
    "team1 = \"NIP\"\r\n",
    "team2 = \"Liquid\"\r\n",
    "print(team_exists(team1))\r\n",
    "print(team_exists(team2))\r\n",
    "\r\n",
    "try:\r\n",
    "    print(\"Team: \" + team1 + \" trueskill: \" +\r\n",
    "          str(find_last_trueskill(decoded_df, team1).mu))\r\n",
    "except:\r\n",
    "    pass\r\n",
    "\r\n",
    "try:\r\n",
    "    print(\"Team: \" + team + \" trueskill: \" +\r\n",
    "          str(find_last_trueskill(decoded_df, team2).mu))\r\n",
    "except:\r\n",
    "    pass\r\n"
   ],
   "outputs": [],
   "metadata": {}
  },
  {
   "cell_type": "code",
   "execution_count": null,
   "source": [
    "#\r\n",
    "#   SELEKTION HELPER\r\n",
    "#\r\n",
    "# trueskill_df.iloc[104]\r\n",
    "\r\n",
    "# y = trueskill_df.loc[(halfskill['Team1'] == 455) |\r\n",
    "#                      (halfskill['Team2'] == 455)]\r\n"
   ],
   "outputs": [],
   "metadata": {}
  },
  {
   "cell_type": "code",
   "execution_count": null,
   "source": [
    "def find_last_trueskill(df,team):\r\n",
    "\r\n",
    "    res = df[(df.Team1 == team) | (df.Team2 == team)].iloc[0]\r\n",
    "    mid = res.MatchID\r\n",
    "    if team == res.Team1 and res.Winner == 1:\r\n",
    "        out = res.w_ts_after_game\r\n",
    "    elif team == res.Team2 and res.Winner == 2:\r\n",
    "        out = res.w_ts_after_game\r\n",
    "    else:\r\n",
    "        out = res.l_ts_after_game\r\n",
    "    # return out, mid\r\n",
    "    return out\r\n"
   ],
   "outputs": [],
   "metadata": {}
  },
  {
   "cell_type": "code",
   "execution_count": null,
   "source": [
    "# type(trueskill[\"w_ts_after_game\"].iloc[0])\r\n",
    "# trueskill_df.to_csv(\"TRUESKILL_raw.csv\",index=False)\r\n"
   ],
   "outputs": [],
   "metadata": {}
  },
  {
   "cell_type": "code",
   "execution_count": null,
   "source": [
    "# trueskill_df[\"Team1\"] = le.inverse_transform(\r\n",
    "#     trueskill_df[\"Team1\"])\r\n",
    "# trueskill_df[\"Team2\"] = le.inverse_transform(\r\n",
    "#     trueskill_df[\"Team2\"])\r\n",
    "\r\n",
    "# g2 = trueskill.Rating(mu=28.279, sigma=0.796)\r\n",
    "# navi = trueskill.Rating(mu=29.361, sigma=0.799)\r\n"
   ],
   "outputs": [],
   "metadata": {}
  },
  {
   "cell_type": "code",
   "execution_count": null,
   "source": [
    "trueskill_reshape = pd.DataFrame(\r\n",
    "    columns=[\"MatchID\",\"Winner\",\"WinChance\", \"Winner_TS_before\", \"Winner_TS_after\", \"Looser\", \"Looser_TS_before\", \"Looser_TS_after\"])\r\n",
    "\r\n",
    "for row in trueskill_df.itertuples():\r\n",
    "    if row.Winner == 1:\r\n",
    "        res = {\"MatchID\": row.MatchID, \"Winner\": row.Team1, \"WinChance\": win_probability([row.w_ts_before_game], [row.l_ts_before_game]), \"Winner_TS_before\": row.w_ts_before_game,\r\n",
    "               \"Winner_TS_after\": row.w_ts_after_game, \"Looser\": row.Team2, \"Looser_TS_before\": row.l_ts_before_game, \"Looser_TS_after\": row.l_ts_after_game}\r\n",
    "    else:\r\n",
    "        res = {\"MatchID\": row.MatchID, \"Winner\": row.Team2,  \"WinChance\": win_probability([row.w_ts_before_game], [row.l_ts_before_game]), \"Winner_TS_before\": row.w_ts_before_game,\r\n",
    "               \"Winner_TS_after\": row.w_ts_after_game, \"Looser\": row.Team1, \"Looser_TS_before\": row.l_ts_before_game, \"Looser_TS_after\": row.l_ts_after_game}\r\n",
    "    trueskill_reshape = trueskill_reshape.append(res, ignore_index=True)\r\n",
    "\r\n",
    "#win_probability([row.w_ts_before_game], [row.w_ts_before_game])\r\n",
    "trueskill_reshape[\"Winner\"] = le.inverse_transform(\r\n",
    "    trueskill_reshape[\"Winner\"].astype(int))\r\n",
    "trueskill_reshape[\"Looser\"] = le.inverse_transform(\r\n",
    "    trueskill_reshape[\"Looser\"].astype(int))\r\n"
   ],
   "outputs": [],
   "metadata": {}
  },
  {
   "cell_type": "code",
   "execution_count": null,
   "source": [
    "trueskill_reshape.to_csv(\"ExportTrueSkill.csv\",index=False)"
   ],
   "outputs": [],
   "metadata": {}
  },
  {
   "cell_type": "code",
   "execution_count": null,
   "source": [
    "trueskill_reshape = pd.DataFrame(\r\n",
    "    columns=[\"MatchID\", \"Winner\", \"WinChance\", \"Winner_mu\", \"Winner_sigma\", \"Looser\", \"Looser_mu\", \"Looser_sigma\"])\r\n",
    "\r\n",
    "for row in trueskill_df.itertuples():\r\n",
    "    if row.Winner == 1:\r\n",
    "        res = {\"MatchID\": row.MatchID, \"Winner\": row.Team1, \"WinChance\": win_probability([row.w_ts_before_game], [row.l_ts_before_game]), \"Winner_mu\": row.w_ts_after_game.mu,\r\n",
    "               \"Winner_sigma\": row.w_ts_after_game.sigma, \"Looser\": row.Team2, \"Looser_mu\": row.l_ts_after_game.mu, \"Looser_sigma\": row.l_ts_after_game.sigma}\r\n",
    "    else:\r\n",
    "        res = {\"MatchID\": row.MatchID, \"Winner\": row.Team2, \"WinChance\": win_probability([row.w_ts_before_game], [row.l_ts_before_game]), \"Winner_mu\": row.w_ts_after_game.mu,\r\n",
    "               \"Winner_sigma\": row.w_ts_after_game.sigma, \"Looser\": row.Team1, \"Looser_mu\": row.l_ts_after_game.mu, \"Looser_sigma\": row.l_ts_after_game.sigma}\r\n",
    "    trueskill_reshape = trueskill_reshape.append(res, ignore_index=True)\r\n",
    "\r\n",
    "#win_probability([row.w_ts_before_game], [row.w_ts_before_game])\r\n",
    "trueskill_reshape[\"Winner\"] = le.inverse_transform(\r\n",
    "    trueskill_reshape[\"Winner\"].astype(int))\r\n",
    "trueskill_reshape[\"Looser\"] = le.inverse_transform(\r\n",
    "    trueskill_reshape[\"Looser\"].astype(int))\r\n"
   ],
   "outputs": [],
   "metadata": {}
  },
  {
   "cell_type": "code",
   "execution_count": null,
   "source": [
    "\r\n",
    "trueskill_reshape\r\n"
   ],
   "outputs": [],
   "metadata": {}
  },
  {
   "cell_type": "code",
   "execution_count": null,
   "source": [
    "#df['new column name'] = df['column name'].apply(lambda x: 'value if condition is met' if x condition else 'value if condition is not met')\r\n",
    "\r\n",
    "sumofcorrects = sum(trueskill_reshape['WinChance'].apply(\r\n",
    "    lambda x: 1 if x > 0.5 else 0))\r\n",
    "\r\n",
    "sumofnon5050games = sum(trueskill_reshape['WinChance'].apply(\r\n",
    "    lambda x: 0 if x == 0.500 else 1))\r\n",
    "\r\n",
    "\r\n",
    "trueskill_reshape['sigma_thresh_1'] = trueskill_reshape['Winner_sigma'].apply(\r\n",
    "    lambda x: 1 if x < 2 else 0)\r\n",
    "trueskill_reshape['sigma_thresh_2'] = trueskill_reshape['Looser_sigma'].apply(\r\n",
    "    lambda x: 1 if x < 2 else 0)\r\n",
    "\r\n",
    "\r\n",
    "test_df = trueskill_reshape.apply(lambda row: row[8] == 1 & row[9] == 1,axis=1 )\r\n",
    "# sum(trueskill_reshape['sum'])/sum(trueskill_reshape['WinChance'].apply(\r\n",
    "#     lambda x: 1 if x == 0.500 else 0))\r\n",
    "sigma_df = trueskill_reshape[test_df].copy()\r\n",
    "# print(sumofcorrects)\r\n",
    "# print(sumofnon5050games)\r\n",
    "\r\n",
    "\r\n",
    "# print(sumoflowsigmagamesw)\r\n",
    "# print(sumoflowsigmagamesl)\r\n",
    "# print(sumofcorrects/sumofnon5050games)\r\n"
   ],
   "outputs": [],
   "metadata": {}
  },
  {
   "cell_type": "code",
   "execution_count": null,
   "source": [
    "sumofcorrects = sum(sigma_df['WinChance'].apply(\r\n",
    "    lambda x: 1 if x > 0.5 else 0))\r\n",
    "\r\n",
    "sumofnon5050games = sum(sigma_df['WinChance'].apply(\r\n",
    "    lambda x: 0 if x == 0.500 else 1))\r\n",
    "\r\n",
    "print(sumofcorrects/sumofnon5050games)\r\n"
   ],
   "outputs": [],
   "metadata": {}
  },
  {
   "cell_type": "code",
   "execution_count": null,
   "source": [
    "i = 0\r\n",
    "BETA = 4.166666666666667\r\n",
    "win_probability([trueskill_reshape[\"Winner_TS_before\"].iloc[i]], [trueskill_reshape[\"Looser_TS_before\"].iloc[i]])\r\n",
    "\r\n",
    "\r\n"
   ],
   "outputs": [],
   "metadata": {}
  },
  {
   "cell_type": "code",
   "execution_count": null,
   "source": [
    "i = 1\r\n",
    "print(trueskill_reshape[\"MatchID\"].iloc[i])\r\n",
    "print(win_probability([trueskill_reshape[\"Winner_TS_before\"].iloc[i]],[trueskill_reshape[\"Looser_TS_before\"].iloc[i]]))\r\n"
   ],
   "outputs": [],
   "metadata": {}
  },
  {
   "cell_type": "code",
   "execution_count": null,
   "source": [
    "trueskill_reshape.set_index(\"MatchID\")\r\n",
    "\r\n"
   ],
   "outputs": [],
   "metadata": {}
  },
  {
   "cell_type": "code",
   "execution_count": null,
   "source": [
    "teams"
   ],
   "outputs": [],
   "metadata": {}
  },
  {
   "cell_type": "code",
   "execution_count": null,
   "source": [
    "#label encoding:\r\n",
    "\r\n",
    "le1 = LabelEncoder()\r\n",
    "le2 = LabelEncoder()\r\n",
    "\r\n",
    "filtered.Team1 = le1.fit_transform(filtered.Team1)\r\n",
    "filtered.Team2 = le2.fit_transform(filtered.Team2)\r\n"
   ],
   "outputs": [],
   "metadata": {}
  },
  {
   "cell_type": "code",
   "execution_count": null,
   "source": [
    "len(filtered[\"Team1\"])\r\n"
   ],
   "outputs": [],
   "metadata": {}
  },
  {
   "cell_type": "markdown",
   "source": [
    "# Elo Rating"
   ],
   "metadata": {}
  },
  {
   "cell_type": "code",
   "execution_count": null,
   "source": [
    "result = filtered.copy()\r\n",
    "result.Team1 = le1.inverse_transform(result.Team1)\r\n",
    "result.Team2 = le2.inverse_transform(result.Team2)\r\n",
    "result.to_csv(\"ELO_raw.csv\",index=False)\r\n"
   ],
   "outputs": [],
   "metadata": {}
  },
  {
   "cell_type": "code",
   "execution_count": null,
   "source": [
    "mean_elo = 1500\r\n",
    "elo_width = 400\r\n",
    "k_factor = 64"
   ],
   "outputs": [],
   "metadata": {}
  },
  {
   "cell_type": "code",
   "execution_count": null,
   "source": [
    "filtered['w_elo_before_game'] = 0\r\n",
    "filtered['w_elo_after_game'] = 0\r\n",
    "filtered['l_elo_before_game'] = 0\r\n",
    "filtered['l_elo_after_game'] = 0\r\n",
    "elo_per_season = {}\r\n",
    "n_teams = len(teams)\r\n",
    "current_elos = np.ones(shape=(n_teams)) * mean_elo"
   ],
   "outputs": [],
   "metadata": {}
  },
  {
   "cell_type": "code",
   "execution_count": null,
   "source": [
    "for row in filtered.itertuples():\r\n",
    "    idx = row.Index\r\n",
    "    w_id = row.Team1 if row.Winner == 1 else row.Team2\r\n",
    "    l_id = row.Team2 if row.Winner == 1 else row.Team1\r\n",
    "    \r\n",
    "    #get current elos\r\n",
    "    w_elo_before = current_elos[w_id]\r\n",
    "    l_elo_before = current_elos[l_id]\r\n",
    "    #update elos\r\n",
    "    w_elo_after, l_elo_after = update_elo(w_elo_before, l_elo_before)\r\n",
    "\r\n",
    "    #save\r\n",
    "    filtered.at[idx, 'w_elo_before_game'] = w_elo_before\r\n",
    "    filtered.at[idx, 'l_elo_before_game'] = l_elo_before\r\n",
    "    filtered.at[idx, 'w_elo_after_game'] = w_elo_after\r\n",
    "    filtered.at[idx, 'l_elo_after_game'] = l_elo_after\r\n",
    "    current_elos[w_id] = w_elo_after\r\n",
    "    current_elos[l_id] = l_elo_after\r\n",
    "\r\n"
   ],
   "outputs": [],
   "metadata": {}
  },
  {
   "cell_type": "code",
   "execution_count": null,
   "source": [
    "def update_elo(winner_elo, loser_elo):\r\n",
    "    \"\"\"\r\n",
    "    https://en.wikipedia.org/wiki/Elo_rating_system#Mathematical_details\r\n",
    "    \"\"\"\r\n",
    "    expected_win = expected_result(winner_elo, loser_elo)\r\n",
    "    change_in_elo = k_factor * (1-expected_win)\r\n",
    "    winner_elo += change_in_elo\r\n",
    "    loser_elo -= change_in_elo\r\n",
    "    return winner_elo, loser_elo\r\n",
    "\r\n",
    "def expected_result(elo_a, elo_b):\r\n",
    "    \"\"\"\r\n",
    "    https://en.wikipedia.org/wiki/Elo_rating_system#Mathematical_details\r\n",
    "    \"\"\"\r\n",
    "    expect_a = 1.0/(1+10**((elo_b - elo_a)/elo_width))\r\n",
    "    return expect_a\r\n",
    "\r\n",
    "def update_end_of_season(elos):\r\n",
    "    \"\"\"Regression towards the mean\r\n",
    "    \r\n",
    "    Following 538 nfl methods\r\n",
    "    https://fivethirtyeight.com/datalab/nfl-elo-ratings-are-back/\r\n",
    "    \"\"\"\r\n",
    "    diff_from_mean = elos - mean_elo\r\n",
    "    elos -= diff_from_mean/3\r\n",
    "    return elos\r\n",
    "\r\n",
    "    def filter_by_freq(df: pd.DataFrame, column: str, min_freq: int) -> pd.DataFrame:\r\n",
    "    \"\"\"Filters the DataFrame based on the value frequency in the specified column.\r\n",
    "\r\n",
    "    :param df: DataFrame to be filtered.\r\n",
    "    :param column: Column name that should be frequency filtered.\r\n",
    "    :param min_freq: Minimal value frequency for the row to be accepted.\r\n",
    "    :return: Frequency filtered DataFrame.\r\n",
    "    \"\"\"\r\n",
    "    # Frequencies of each value in the column.\r\n",
    "    freq = df[column].value_counts()\r\n",
    "    # Select frequent values. Value is in the index.\r\n",
    "    frequent_values = freq[freq >= min_freq].index\r\n",
    "    # Return only rows with value frequency above threshold.\r\n",
    "    return df[df[column].isin(frequent_values)]\r\n",
    "\r\n",
    "    def find_last_elo(team):\r\n",
    "\r\n",
    "    res = sorted[(sorted.Team1 == team) | (sorted.Team2 == team)].iloc[0]\r\n",
    "    mid = res.MatchID\r\n",
    "    if team == res.Team1 and res.Winner == 1:\r\n",
    "        out = res.w_elo_after_game\r\n",
    "    elif team == res.Team2 and res.Winner == 2:\r\n",
    "        out = res.w_elo_after_game\r\n",
    "    else:\r\n",
    "        out = res.l_elo_after_game\r\n",
    "    return out, mid\r\n"
   ],
   "outputs": [],
   "metadata": {}
  },
  {
   "cell_type": "markdown",
   "source": [
    "# Elo Rating Sort"
   ],
   "metadata": {}
  },
  {
   "cell_type": "code",
   "execution_count": null,
   "source": [
    "sorted = result.sort_index(ascending=False)\r\n",
    "result_team = pd.DataFrame(columns=[\"MatchID\",\"Team1\",\"Team2\",\"Team1_before\",\"Team2_before\"])\r\n",
    "\r\n",
    "for row in result.itertuples():\r\n",
    "    if row.Winner == 1:\r\n",
    "        team1_before = row.w_elo_before_game\r\n",
    "        team2_before = row.l_elo_before_game\r\n",
    "    else:\r\n",
    "        team2_before = row.w_elo_before_game\r\n",
    "        team1_before = row.l_elo_before_game\r\n",
    "\r\n",
    "    result_team = result_team.append(\r\n",
    "        {\"MatchID\" : row.MatchID, \"Team1\" : row.Team1, \"Team2\" : row.Team2, \"Team1_elo_before\" : team1_before, \"Team2_elo_before\" : team2_before},ignore_index=True)\r\n"
   ],
   "outputs": [],
   "metadata": {}
  },
  {
   "cell_type": "code",
   "execution_count": null,
   "source": [
    "result_team.to_csv(\"ELO_raw.csv\",index=False)"
   ],
   "outputs": [],
   "metadata": {}
  },
  {
   "cell_type": "code",
   "execution_count": null,
   "source": [
    "final = pd.concat([pd.DataFrame(sorted.Team1.unique()), pd.DataFrame(sorted.Team2.unique())])\r\n",
    "final.columns = [\"Team\"]\r\n",
    "final[\"Elo\"] = 0\r\n"
   ],
   "outputs": [],
   "metadata": {}
  },
  {
   "cell_type": "code",
   "execution_count": null,
   "source": [
    "final.head(210)\r\n",
    "final.to_csv(\"ELO.csv\")"
   ],
   "outputs": [],
   "metadata": {}
  },
  {
   "cell_type": "code",
   "execution_count": null,
   "source": [
    "team_elo = pd.DataFrame(columns=[\"Team\",\"Elo\",\"lastID\"])"
   ],
   "outputs": [],
   "metadata": {}
  },
  {
   "cell_type": "code",
   "execution_count": null,
   "source": [
    "elo, mid = find_last_elo(\"G2\")\r\n",
    "int(mid)"
   ],
   "outputs": [],
   "metadata": {}
  },
  {
   "cell_type": "code",
   "execution_count": null,
   "source": [
    "for row in final.itertuples():\r\n",
    "    elo, mid = find_last_elo(row.Team)\r\n",
    "    team_elo = team_elo.append({\"Team\" : row.Team, \"Elo\" : elo, \"lastID\" : int(mid) },ignore_index=True)\r\n"
   ],
   "outputs": [],
   "metadata": {}
  },
  {
   "cell_type": "code",
   "execution_count": null,
   "source": [
    "team_elo.to_csv(\"ELO.csv\")\r\n"
   ],
   "outputs": [],
   "metadata": {}
  },
  {
   "cell_type": "code",
   "execution_count": null,
   "source": [
    "ax  = team_elo[\"Elo\"].plot.kde()"
   ],
   "outputs": [],
   "metadata": {}
  }
 ],
 "metadata": {
  "orig_nbformat": 4,
  "language_info": {
   "name": "python",
   "version": "3.8.3",
   "mimetype": "text/x-python",
   "codemirror_mode": {
    "name": "ipython",
    "version": 3
   },
   "pygments_lexer": "ipython3",
   "nbconvert_exporter": "python",
   "file_extension": ".py"
  },
  "kernelspec": {
   "name": "python3",
   "display_name": "Python 3.8.3 64-bit ('base': conda)"
  },
  "interpreter": {
   "hash": "75a88bca18d42798bd43853615f6d8e1ba2122f998d1455de99fcbfb11fe8fcf"
  }
 },
 "nbformat": 4,
 "nbformat_minor": 2
}